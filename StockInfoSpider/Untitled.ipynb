{
 "cells": [
  {
   "cell_type": "markdown",
   "metadata": {},
   "source": [
    "# 上市公司财务报告爬取\n",
    "> 使用[巨潮资讯](http://www.cninfo.com.cn/new/index)网站资料"
   ]
  },
  {
   "cell_type": "code",
   "execution_count": 3,
   "metadata": {},
   "outputs": [],
   "source": [
    "# -*- coding: utf-8 -*-\n",
    "\n",
    "import requests\n",
    "\n",
    "formData = {\n",
    "    'pageNum': '1'\n",
    "    'pageSize': '30'\n",
    "    'column': 'szse'\n",
    "    'tabName': 'fulltext'\n",
    "    'plate':\n",
    "    'stock': '000001%2Cgssz0000001'\n",
    "    'searchkey':\n",
    "    'secid':\n",
    "    'category':\n",
    "    'trade':\n",
    "    'seDate': '2020-02-18~2020-08-19'\n",
    "    'sortName':\n",
    "    'sortType':\n",
    "    'isHLtitle': 'true'\n",
    "}\n",
    "url = \"http://www.cninfo.com.cn/new/hisAnnouncement/query\""
   ]
  },
  {
   "cell_type": "code",
   "execution_count": 4,
   "metadata": {},
   "outputs": [
    {
     "name": "stdout",
     "output_type": "stream",
     "text": [
      "\n"
     ]
    }
   ],
   "source": [
    "res = requests.post(url, data = formData)\n",
    "print(res.text)"
   ]
  },
  {
   "cell_type": "code",
   "execution_count": null,
   "metadata": {},
   "outputs": [],
   "source": []
  }
 ],
 "metadata": {
  "kernelspec": {
   "display_name": "Python [conda env:root]",
   "language": "python",
   "name": "conda-root-py"
  },
  "language_info": {
   "codemirror_mode": {
    "name": "ipython",
    "version": 3
   },
   "file_extension": ".py",
   "mimetype": "text/x-python",
   "name": "python",
   "nbconvert_exporter": "python",
   "pygments_lexer": "ipython3",
   "version": "3.8.3"
  }
 },
 "nbformat": 4,
 "nbformat_minor": 4
}